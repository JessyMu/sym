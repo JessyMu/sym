{
 "cells": [
  {
   "cell_type": "code",
   "execution_count": 7,
   "metadata": {},
   "outputs": [],
   "source": [
    "import os\n",
    "\n",
    "def get_filenames(directory):\n",
    "    \"\"\"\n",
    "    获取指定目录下的所有文件名（不包括路径）。\n",
    "    \"\"\"\n",
    "    return list(os.listdir(directory))"
   ]
  },
  {
   "cell_type": "code",
   "execution_count": 8,
   "metadata": {},
   "outputs": [],
   "source": [
    "dir = '/home/jesse/Project/SymPoint/dataset/test/test/svg_gt'"
   ]
  },
  {
   "cell_type": "code",
   "execution_count": 9,
   "metadata": {},
   "outputs": [],
   "source": [
    "list1 = get_filenames(dir)\n",
    "list1.sort()"
   ]
  },
  {
   "cell_type": "code",
   "execution_count": 10,
   "metadata": {},
   "outputs": [],
   "source": [
    "with open('output.txt', 'w') as file:\n",
    "    for item in list1:\n",
    "        file.write(f\"{item}\\n\")"
   ]
  },
  {
   "cell_type": "code",
   "execution_count": 11,
   "metadata": {},
   "outputs": [
    {
     "data": {
      "text/plain": [
       "0.49766269088024473"
      ]
     },
     "execution_count": 11,
     "metadata": {},
     "output_type": "execute_result"
    }
   ],
   "source": []
  },
  {
   "cell_type": "code",
   "execution_count": 13,
   "metadata": {},
   "outputs": [
    {
     "name": "stdout",
     "output_type": "stream",
     "text": [
      "RQ: 0.8783524223112064\n"
     ]
    }
   ],
   "source": [
    "def calculate_RQ(f1_score, precision, recall):\n",
    "    # Calculate tp using the formula for recall\n",
    "    tp = recall\n",
    "\n",
    "    # Calculate fp using the formula for precision\n",
    "    fp = (1 / precision - 1) * tp\n",
    "\n",
    "    # Calculate fn using the formula for recall\n",
    "    fn = (1 / recall - 1) * tp\n",
    "\n",
    "    # Normalize the values to get the ratio\n",
    "    total = tp + fp + fn\n",
    "    tp_ratio = tp / total\n",
    "    fp_ratio = fp / total\n",
    "    fn_ratio = fn / total\n",
    "\n",
    "    return tp_ratio/(tp_ratio + 0.5 * fp_ratio + 0.5 * fn_ratio)\n",
    "\n",
    "# Example usage\n",
    "f1_score = 0.8783\n",
    "precision = 0.9718\n",
    "recall = 0.8013\n",
    "\n",
    "RQ = calculate_RQ(f1_score, precision, recall)\n",
    "print(f\"RQ: {RQ}\")"
   ]
  },
  {
   "cell_type": "code",
   "execution_count": 29,
   "metadata": {},
   "outputs": [
    {
     "data": {
      "text/plain": [
       "0.8783524223112064"
      ]
     },
     "execution_count": 29,
     "metadata": {},
     "output_type": "execute_result"
    }
   ],
   "source": [
    "def calculate_rq(f1, precision, recall):\n",
    "    # Calculate TP\n",
    "    tp = (f1 * recall) / (2 * recall - f1)\n",
    "    \n",
    "    # Calculate FP using TP and Precision\n",
    "    fp = tp * (1 / precision - 1)\n",
    "    \n",
    "    # Calculate FN using TP and Recall\n",
    "    fn = tp * (1 / recall - 1)\n",
    "    \n",
    "    return tp/(tp+0.5*fp+0.5*fn)\n",
    "\n",
    "# Example values\n",
    "f1 = 0.8783\n",
    "precision = 0.9718\n",
    "recall = 0.8013\n",
    "\n",
    "rq= calculate_rq(f1, precision, recall)\n",
    "rq\n"
   ]
  },
  {
   "cell_type": "code",
   "execution_count": 32,
   "metadata": {},
   "outputs": [
    {
     "data": {
      "text/plain": [
       "0.7968505188807846"
      ]
     },
     "execution_count": 32,
     "metadata": {},
     "output_type": "execute_result"
    }
   ],
   "source": [
    "f1 = 0.7968006134033203\n",
    "precision = 0.8276913166046143\n",
    "recall = 0.7682254910469055\n",
    "\n",
    "\n",
    "rq= calculate_rq(f1, precision, recall)\n",
    "rq"
   ]
  },
  {
   "cell_type": "code",
   "execution_count": null,
   "metadata": {},
   "outputs": [],
   "source": []
  }
 ],
 "metadata": {
  "kernelspec": {
   "display_name": "cadtransformer",
   "language": "python",
   "name": "python3"
  },
  "language_info": {
   "codemirror_mode": {
    "name": "ipython",
    "version": 3
   },
   "file_extension": ".py",
   "mimetype": "text/x-python",
   "name": "python",
   "nbconvert_exporter": "python",
   "pygments_lexer": "ipython3",
   "version": "3.8.19"
  }
 },
 "nbformat": 4,
 "nbformat_minor": 2
}
