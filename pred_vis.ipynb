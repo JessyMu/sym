{
 "cells": [
  {
   "cell_type": "code",
   "execution_count": 20,
   "metadata": {},
   "outputs": [],
   "source": [
    "import re"
   ]
  },
  {
   "cell_type": "code",
   "execution_count": 21,
   "metadata": {},
   "outputs": [],
   "source": [
    "import numpy as np"
   ]
  },
  {
   "cell_type": "code",
   "execution_count": 22,
   "metadata": {},
   "outputs": [],
   "source": [
    "SVG_CATEGORIES = [\n",
    "    #1-6 doors\n",
    "    {\"color\": [224, 62, 155], \"isthing\": 1, \"id\": 1, \"name\": \"single door\"},\n",
    "    {\"color\": [157, 34, 101], \"isthing\": 1, \"id\": 2, \"name\": \"double door\"},\n",
    "    {\"color\": [232, 116, 91], \"isthing\": 1, \"id\": 3, \"name\": \"sliding door\"},\n",
    "    {\"color\": [101, 54, 72], \"isthing\": 1, \"id\": 4, \"name\": \"folding door\"},\n",
    "    {\"color\": [172, 107, 133], \"isthing\": 1, \"id\": 5, \"name\": \"revolving door\"},\n",
    "    {\"color\": [142, 76, 101], \"isthing\": 1, \"id\": 6, \"name\": \"rolling door\"},\n",
    "    #7-10 window\n",
    "    {\"color\": [96, 78, 245], \"isthing\": 1, \"id\": 7, \"name\": \"window\"},\n",
    "    {\"color\": [26, 2, 219], \"isthing\": 1, \"id\": 8, \"name\": \"bay window\"},\n",
    "    {\"color\": [63, 140, 221], \"isthing\": 1, \"id\": 9, \"name\": \"blind window\"},\n",
    "    {\"color\": [233, 59, 217], \"isthing\": 1, \"id\": 10, \"name\": \"opening symbol\"},\n",
    "    #11-27: furniture\n",
    "    {\"color\": [122, 181, 145], \"isthing\": 1, \"id\": 11, \"name\": \"sofa\"},\n",
    "    {\"color\": [94, 150, 113], \"isthing\": 1, \"id\": 12, \"name\": \"bed\"},\n",
    "    {\"color\": [66, 107, 81], \"isthing\": 1, \"id\": 13, \"name\": \"chair\"},\n",
    "    {\"color\": [123, 181, 114], \"isthing\": 1, \"id\": 14, \"name\": \"table\"},\n",
    "    {\"color\": [94, 150, 83], \"isthing\": 1, \"id\": 15, \"name\": \"TV cabinet\"},\n",
    "    {\"color\": [66, 107, 59], \"isthing\": 1, \"id\": 16, \"name\": \"Wardrobe\"},\n",
    "    {\"color\": [145, 182, 112], \"isthing\": 1, \"id\": 17, \"name\": \"cabinet\"},\n",
    "    {\"color\": [152, 147, 200], \"isthing\": 1, \"id\": 18, \"name\": \"gas stove\"},\n",
    "    {\"color\": [113, 151, 82], \"isthing\": 1, \"id\": 19, \"name\": \"sink\"},\n",
    "    {\"color\": [112, 103, 178], \"isthing\": 1, \"id\": 20, \"name\": \"refrigerator\"},\n",
    "    {\"color\": [81, 107, 58], \"isthing\": 1, \"id\": 21, \"name\": \"airconditioner\"},\n",
    "    {\"color\": [172, 183, 113], \"isthing\": 1, \"id\": 22, \"name\": \"bath\"},\n",
    "    {\"color\": [141, 152, 83], \"isthing\": 1, \"id\": 23, \"name\": \"bath tub\"},\n",
    "    {\"color\": [80, 72, 147], \"isthing\": 1, \"id\": 24, \"name\": \"washing machine\"},\n",
    "    {\"color\": [100, 108, 59], \"isthing\": 1, \"id\": 25, \"name\": \"squat toilet\"},\n",
    "    {\"color\": [182, 170, 112], \"isthing\": 1, \"id\": 26, \"name\": \"urinal\"},\n",
    "    {\"color\": [238, 124, 162], \"isthing\": 1, \"id\": 27, \"name\": \"toilet\"},\n",
    "    #28:stairs\n",
    "    {\"color\": [247, 206, 75], \"isthing\": 1, \"id\": 28, \"name\": \"stairs\"},\n",
    "    #29-30: equipment\n",
    "    {\"color\": [237, 112, 45], \"isthing\": 1, \"id\": 29, \"name\": \"elevator\"},\n",
    "    {\"color\": [233, 59, 46], \"isthing\": 1, \"id\": 30, \"name\": \"escalator\"},\n",
    "\n",
    "    #31-35: uncountable\n",
    "    {\"color\": [172, 107, 151], \"isthing\": 0, \"id\": 31, \"name\": \"row chairs\"},\n",
    "    {\"color\": [102, 67, 62], \"isthing\": 0, \"id\": 32, \"name\": \"parking spot\"},\n",
    "    {\"color\": [167, 92, 32], \"isthing\": 0, \"id\": 33, \"name\": \"wall\"},\n",
    "    {\"color\": [121, 104, 178], \"isthing\": 0, \"id\": 34, \"name\": \"curtain wall\"},\n",
    "    {\"color\": [64, 52, 105], \"isthing\": 0, \"id\": 35, \"name\": \"railing\"},\n",
    "    {\"color\": [0, 0, 0], \"isthing\": 0, \"id\": 36, \"name\": \"bg\"},\n",
    "]\n"
   ]
  },
  {
   "cell_type": "code",
   "execution_count": 23,
   "metadata": {},
   "outputs": [],
   "source": [
    "colors = [\n",
    "    x['color']\n",
    "    for x in SVG_CATEGORIES\n",
    "]\n",
    "#colors"
   ]
  },
  {
   "cell_type": "code",
   "execution_count": null,
   "metadata": {},
   "outputs": [],
   "source": []
  },
  {
   "cell_type": "code",
   "execution_count": 24,
   "metadata": {},
   "outputs": [],
   "source": []
  },
  {
   "cell_type": "code",
   "execution_count": 25,
   "metadata": {},
   "outputs": [
    {
     "data": {
      "text/plain": [
       "array([16, 32, 16, ..., 32, 32, 32])"
      ]
     },
     "execution_count": 25,
     "metadata": {},
     "output_type": "execute_result"
    }
   ],
   "source": [
    "preds = np.loadtxt('preds.txt', dtype=int)\n",
    "preds"
   ]
  },
  {
   "cell_type": "code",
   "execution_count": 32,
   "metadata": {},
   "outputs": [
    {
     "name": "stdout",
     "output_type": "stream",
     "text": [
      "0\n",
      "1\n",
      "2\n",
      "3\n",
      "4\n",
      "5\n",
      "6\n",
      "7\n",
      "8\n",
      "9\n",
      "10\n",
      "11\n",
      "12\n",
      "13\n",
      "14\n",
      "15\n",
      "16\n",
      "17\n",
      "18\n",
      "19\n",
      "20\n",
      "21\n",
      "22\n",
      "23\n",
      "24\n",
      "25\n",
      "26\n",
      "27\n",
      "28\n",
      "29\n",
      "30\n",
      "31\n",
      "32\n",
      "33\n",
      "34\n",
      "35\n",
      "36\n",
      "37\n",
      "38\n",
      "39\n",
      "40\n",
      "41\n",
      "42\n",
      "43\n",
      "44\n",
      "45\n",
      "46\n",
      "47\n",
      "48\n",
      "49\n",
      "50\n",
      "51\n",
      "52\n",
      "53\n",
      "54\n",
      "55\n",
      "56\n",
      "57\n",
      "58\n",
      "59\n",
      "60\n",
      "61\n",
      "62\n",
      "63\n",
      "64\n",
      "65\n",
      "66\n",
      "67\n",
      "68\n",
      "69\n",
      "70\n",
      "71\n",
      "72\n",
      "73\n",
      "74\n",
      "75\n",
      "76\n",
      "77\n",
      "78\n",
      "79\n",
      "80\n",
      "81\n",
      "82\n",
      "83\n",
      "84\n",
      "85\n",
      "86\n",
      "87\n",
      "88\n",
      "89\n",
      "90\n",
      "91\n",
      "92\n",
      "93\n",
      "94\n",
      "95\n",
      "96\n",
      "97\n",
      "98\n",
      "99\n",
      "100\n",
      "101\n",
      "102\n",
      "103\n",
      "104\n",
      "105\n",
      "106\n",
      "107\n",
      "108\n",
      "109\n",
      "110\n",
      "111\n",
      "112\n",
      "113\n",
      "114\n",
      "115\n",
      "116\n",
      "117\n",
      "118\n",
      "119\n",
      "120\n",
      "121\n",
      "122\n",
      "123\n",
      "124\n",
      "125\n",
      "126\n",
      "127\n",
      "128\n",
      "129\n",
      "130\n",
      "131\n",
      "132\n",
      "133\n",
      "134\n",
      "135\n",
      "136\n",
      "137\n",
      "138\n",
      "139\n",
      "140\n",
      "141\n",
      "142\n",
      "143\n",
      "144\n",
      "145\n",
      "146\n",
      "147\n",
      "148\n",
      "149\n",
      "150\n",
      "151\n",
      "152\n",
      "153\n",
      "154\n",
      "155\n",
      "156\n",
      "157\n",
      "158\n",
      "159\n",
      "160\n",
      "161\n",
      "162\n",
      "163\n",
      "164\n",
      "165\n",
      "166\n",
      "167\n",
      "168\n",
      "169\n",
      "170\n",
      "171\n",
      "172\n",
      "173\n",
      "174\n",
      "175\n",
      "176\n"
     ]
    }
   ],
   "source": [
    "preds = np.loadtxt('preds.txt', dtype=int)\n",
    "\n",
    "with open('/home/jesse/Project/SymPoint/dataset/test/test/svg_gt/0612-0299.svg') as f:\n",
    "    fs = f.read()\n",
    "\n",
    "i = 0\n",
    "\n",
    "st = 0\n",
    "\n",
    "while True:\n",
    "    print(i)\n",
    "\n",
    "    st =  fs.find('stroke=', st)\n",
    "    if st == -1:\n",
    "        break\n",
    "\n",
    "    m = re.match(r'stroke=\\\"[^\\\"]+\\\"', fs[st:])\n",
    "    assert m is not None\n",
    "\n",
    "    _, delta = m.span()\n",
    "    ed = st + delta\n",
    "\n",
    "    r, g, b = colors[preds[i]]\n",
    "    # s_ins = m.group() # debug\n",
    "    s_ins = f'stroke=\"rgb({r},{g},{b})\"'\n",
    "    len_ins = len(s_ins)\n",
    "\n",
    "    fs = fs[:st] + s_ins + fs[ed:]\n",
    "    st += len_ins\n",
    "\n",
    "    i += 1\n",
    "\n",
    "with open('test_zys.svg', 'w') as f:\n",
    "    f.write(fs)\n"
   ]
  },
  {
   "cell_type": "code",
   "execution_count": 29,
   "metadata": {},
   "outputs": [],
   "source": []
  },
  {
   "cell_type": "code",
   "execution_count": null,
   "metadata": {},
   "outputs": [],
   "source": []
  },
  {
   "cell_type": "code",
   "execution_count": 12,
   "metadata": {},
   "outputs": [
    {
     "data": {
      "text/plain": [
       "<re.Match object; span=(0, 21), match='stroke=\"rgb(0,178,0)\"'>"
      ]
     },
     "execution_count": 12,
     "metadata": {},
     "output_type": "execute_result"
    }
   ],
   "source": [
    "m"
   ]
  },
  {
   "cell_type": "code",
   "execution_count": 15,
   "metadata": {},
   "outputs": [
    {
     "data": {
      "text/plain": [
       "(0, 21)"
      ]
     },
     "execution_count": 15,
     "metadata": {},
     "output_type": "execute_result"
    }
   ],
   "source": [
    "m.span(0)"
   ]
  },
  {
   "cell_type": "code",
   "execution_count": 7,
   "metadata": {},
   "outputs": [
    {
     "data": {
      "text/plain": [
       "'<?xml version=\"1.0\" ?>\\n<svg tag=\"svg\" version=\"1.1\" viewBox=\"0 0 140.0 140.0\" xmlns=\"http://www.w3.org/2000/svg\" xmlns:inkscape=\"http://www.inkscape.org/namespaces/inkscape\">\\n   <g tag=\"g\">\\n      <path d=\"M 123.23403899999994,78.14839899999993 L 125.09403899999984,76.2883989999998\" fill=\"none\" stroke=\"rgb(0,178,0)\" stroke-width=\"0.1\" tag=\"path\"/>\\n      <path d=\"M 124.164039,82.46839899999986 L 124.164039,71.96839899999986\" fill=\"none\" stroke=\"rgb(0,178,0)\" stroke-width=\"0.1\" tag=\"path\"/>\\n      <path d=\"M 126.23403899999994,78.14839899999993 L 128.09403899999984,76.2883989999998\" fill=\"none\" stroke=\"rgb(0,178,0)\" stroke-width=\"0.1\" tag=\"path\"/>\\n      <path d=\"M 127.164039,82.46839899999986 L 127.164039,71.96839899999986\" fill=\"none\" stroke=\"rgb(0,178,0)\" stroke-width=\"0.1\" tag=\"path\"/>\\n      <path d=\"M 135.23403899999994,78.14839899999993 L 137.08403899999985,76.2883989999998\" fill=\"none\" stroke=\"rgb(0,178,0)\" stroke-width=\"0.1\" tag=\"path\"/>\\n      <path d=\"M 136.154039,82.46839899999986 L 136.154039,71.96839899999986\" fill=\"none\" stroke=\"rgb(0,178,0)\" stroke-width=\"0.1\" tag=\"path\"/>\\n      <path d=\"M 105.72403899999995,109.33839899999975 L 116.22403899999995,109.33839899999975\" fill=\"none\" stroke=\"rgb(0,178,0)\" stroke-width=\"0.1\" tag=\"path\"/>\\n      <path d=\"M 105.72403899999995,106.83839899999975 L 116.22403899999995,106.83839899999975\" fill=\"none\" stroke=\"rgb(0,178,0)\" stroke-width=\"0.1\" tag=\"path\"/>\\n      <path d=\"M 105.72403899999995,79.58839899999975 L 116.22403899999995,79.58839899999975\" fill=\"none\" stroke=\"rgb(0,178,0)\" stroke-width=\"0.1\" tag=\"path\"/>\\n      <path d=\"M 105.72403899999995,71.58839899999975 L 116.22403899999995,71.58839899999975\" fill=\"none\" stroke=\"rgb(0,178,0)\" stroke-width=\"0.1\" tag=\"path\"/>\\n      <path d=\"M 105.72403899999995,61.588398999999754 L 116.22403899999995,61.588398999999754\" fill=\"none\" stroke=\"rgb(0,178,0)\" stroke-width=\"0.1\" tag=\"path\"/>\\n      <path d=\"M 105.72403899999995,58.088398999999754 L 116.22403899999995,58.088398999999754\" fill=\"none\" stroke=\"rgb(0,178,0)\" stroke-width=\"0.1\" tag=\"path\"/>\\n      <path d=\"M 110.04403899999988,108.40839899999992 L 111.90403900000001,110.25839899999983\" fill=\"none\" stroke=\"rgb(0,178,0)\" stroke-width=\"0.1\" tag=\"path\"/>\\n      <path d=\"M 110.04403899999988,105.90839899999992 L 111.90403900000001,107.75839899999983\" fill=\"none\" stroke=\"rgb(0,178,0)\" stroke-width=\"0.1\" tag=\"path\"/>\\n      <path d=\"M 110.04403899999988,78.65839899999992 L 111.90403900000001,80.50839899999983\" fill=\"none\" stroke=\"rgb(0,178,0)\" stroke-width=\"0.1\" tag=\"path\"/>\\n      <path d=\"M 110.04403899999988,70.65839899999992 L 111.90403900000001,72.51839899999982\" fill=\"none\" stroke=\"rgb(0,178,0)\" stroke-width=\"0.1\" tag=\"path\"/>\\n      <path d=\"M 110.04403899999988,60.65839899999992 L 111.90403900000001,62.51839899999982\" fill=\"none\" stroke=\"rgb(0,178,0)\" stroke-width=\"0.1\" tag=\"path\"/>\\n      <path d=\"M 110.04403899999988,57.15839899999992 L 111.90403900000001,59.00839899999983\" fill=\"none\" stroke=\"rgb(0,178,0)\" stroke-width=\"0.1\" tag=\"path\"/>\\n      <path d=\"M 124.164039,60.52839899999981 L 124.164039,77.21839899999986\" fill=\"none\" stroke=\"rgb(0,178,0)\" stroke-width=\"0.1\" tag=\"path\"/>\\n      <path d=\"M 124.164039,77.21839899999986 L 140.0,77.21839899999986\" fill=\"none\" stroke=\"rgb(0,178,0)\" stroke-width=\"0.1\" tag=\"path\"/>\\n      <path d=\"M 125.414039,58.088398999999754 L 110.97403899999995,58.088398999999754\" fill=\"none\" stroke=\"rgb(0,178,0)\" stroke-width=\"0.1\" tag=\"path\"/>\\n      <path d=\"M 110.97403899999995,58.088398999999754 L 110.97403899999995,109.33839899999975\" fill=\"none\" stroke=\"rgb(0,178,0)\" stroke-width=\"0.1\" tag=\"path\"/>\\n      <path d=\"M 110.97403899999995,109.33839899999975 L 125.414039,109.33839899999975\" fill=\"none\" stroke=\"rgb(0,178,0)\" stroke-width=\"0.1\" tag=\"path\"/>\\n   </g>\\n   <g tag=\"g\">\\n      <path d=\"M 0.0,18.04839899999979 L 140.0,18.04839899999979\" fill=\"none\" stroke=\"rgb(107,26,0)\" stroke-width=\"0.1\" tag=\"path\"/>\\n      <path d=\"M 120.23403899999994,18.04839899999979 A 45.0,45.0 0.0 0,0 165.23403899999994,-26.95160100000021\" fill=\"none\" stroke=\"rgb(107,26,0)\" stroke-width=\"0.1\" tag=\"path\"/>\\n      <path d=\"M 165.23403899999994,63.04839899999979 A 45.0,45.0 0.0 0,0 120.23403899999994,18.04839899999979\" fill=\"none\" stroke=\"rgb(0,88,178)\" stroke-width=\"0.1\" tag=\"path\"/>\\n   </g>\\n   <g tag=\"g\">\\n      <path d=\"M 136.154039,58.088398999999754 L 140.0,58.088398999999754\" fill=\"none\" stroke=\"rgb(0,178,178)\" stroke-width=\"0.1\" tag=\"path\"/>\\n      <path d=\"M 134.80403899999988,64.51839899999982 A 10.0,10.0 0.0 0,0 127.73403899999994,61.588398999999754\" fill=\"none\" instanceId=\"2\" semanticId=\"1\" stroke=\"rgb(0,178,178)\" stroke-width=\"0.1\" tag=\"path\"/>\\n      <path d=\"M 120.59403899999984,61.588398999999754 A 10.0,10.0 0.0 0,0 113.51403899999991,64.51839899999982\" fill=\"none\" instanceId=\"1\" semanticId=\"1\" stroke=\"rgb(0,178,178)\" stroke-width=\"0.1\" tag=\"path\"/>\\n      <path d=\"M 120.664039,71.58839899999975 L 120.664039,61.588398999999754\" fill=\"none\" instanceId=\"1\" semanticId=\"1\" stroke=\"rgb(0,178,178)\" stroke-width=\"0.1\" tag=\"path\"/>\\n      <path d=\"M 127.664039,71.58839899999975 L 127.664039,61.588398999999754\" fill=\"none\" instanceId=\"2\" semanticId=\"1\" stroke=\"rgb(0,178,178)\" stroke-width=\"0.1\" tag=\"path\"/>\\n      <path d=\"M 120.59403899999984,71.58839899999975 L 119.7840389999999,72.39839899999993\" fill=\"none\" instanceId=\"1\" semanticId=\"1\" stroke=\"rgb(0,178,178)\" stroke-width=\"0.1\" tag=\"path\"/>\\n      <path d=\"M 119.7840389999999,72.39839899999993 L 112.71403899999996,65.32839899999976\" fill=\"none\" instanceId=\"1\" semanticId=\"1\" stroke=\"rgb(0,178,178)\" stroke-width=\"0.1\" tag=\"path\"/>\\n      <path d=\"M 112.71403899999996,65.32839899999976 L 113.51403899999991,64.51839899999982\" fill=\"none\" instanceId=\"1\" semanticId=\"1\" stroke=\"rgb(0,178,178)\" stroke-width=\"0.1\" tag=\"path\"/>\\n      <path d=\"M 113.51403899999991,64.51839899999982 L 120.59403899999984,71.58839899999975\" fill=\"none\" instanceId=\"1\" semanticId=\"1\" stroke=\"rgb(0,178,178)\" stroke-width=\"0.1\" tag=\"path\"/>\\n      <path d=\"M 135.61403900000005,65.32839899999976 L 134.80403899999988,64.51839899999982\" fill=\"none\" stroke=\"rgb(0,178,178)\" stroke-width=\"0.1\" tag=\"path\"/>\\n      <path d=\"M 134.80403899999988,64.51839899999982 L 127.73403899999994,71.58839899999975\" fill=\"none\" instanceId=\"2\" semanticId=\"1\" stroke=\"rgb(0,178,178)\" stroke-width=\"0.1\" tag=\"path\"/>\\n      <path d=\"M 127.73403899999994,71.58839899999975 L 128.54403899999988,72.39839899999993\" fill=\"none\" instanceId=\"2\" semanticId=\"1\" stroke=\"rgb(0,178,178)\" stroke-width=\"0.1\" tag=\"path\"/>\\n      <path d=\"M 128.54403899999988,72.39839899999993 L 135.61403900000005,65.32839899999976\" fill=\"none\" instanceId=\"2\" semanticId=\"1\" stroke=\"rgb(0,178,178)\" stroke-width=\"0.1\" tag=\"path\"/>\\n   </g>\\n   <g tag=\"g\">\\n      <path d=\"M 127.664039,61.588398999999754 L 120.664039,61.588398999999754\" fill=\"none\" stroke=\"rgb(0,0,0)\" stroke-width=\"0.1\" tag=\"path\"/>\\n      <path d=\"M 127.664039,71.58839899999975 L 127.664039,75.58839899999975\" fill=\"none\" stroke=\"rgb(0,0,0)\" stroke-width=\"0.1\" tag=\"path\"/>\\n      <path d=\"M 120.664039,71.58839899999975 L 120.664039,75.58839899999975\" fill=\"none\" stroke=\"rgb(0,0,0)\" stroke-width=\"0.1\" tag=\"path\"/>\\n      <path d=\"M 127.664039,71.58839899999975 L 120.664039,71.58839899999975\" fill=\"none\" stroke=\"rgb(0,0,0)\" stroke-width=\"0.1\" tag=\"path\"/>\\n      <path d=\"M 127.664039,75.58839899999975 L 120.664039,75.58839899999975\" fill=\"none\" stroke=\"rgb(0,0,0)\" stroke-width=\"0.1\" tag=\"path\"/>\\n      <path d=\"M 125.414039,109.33839899999975 L 0.0,109.33839899999975\" fill=\"none\" stroke=\"rgb(0,0,0)\" stroke-width=\"0.1\" tag=\"path\"/>\\n      <path d=\"M 122.914039,106.83839899999975 L 0.0,106.83839899999975\" fill=\"none\" stroke=\"rgb(0,0,0)\" stroke-width=\"0.1\" tag=\"path\"/>\\n      <path d=\"M 122.914039,106.83839899999975 L 122.914039,75.58839899999975\" fill=\"none\" stroke=\"rgb(0,0,0)\" stroke-width=\"0.1\" tag=\"path\"/>\\n      <path d=\"M 125.414039,109.33839899999975 L 125.414039,75.58839899999975\" fill=\"none\" stroke=\"rgb(0,0,0)\" stroke-width=\"0.1\" tag=\"path\"/>\\n      <path d=\"M 122.914039,75.58839899999975 L 125.414039,75.58839899999975\" fill=\"none\" stroke=\"rgb(0,0,0)\" stroke-width=\"0.1\" tag=\"path\"/>\\n      <path d=\"M 136.154039,59.588398999999754 L 127.664039,59.588398999999754\" fill=\"none\" stroke=\"rgb(0,0,0)\" stroke-width=\"0.1\" tag=\"path\"/>\\n      <path d=\"M 136.154039,56.588398999999754 L 127.664039,56.588398999999754\" fill=\"none\" stroke=\"rgb(0,0,0)\" stroke-width=\"0.1\" tag=\"path\"/>\\n      <path d=\"M 136.154039,59.588398999999754 L 136.154039,56.588398999999754\" fill=\"none\" stroke=\"rgb(0,0,0)\" stroke-width=\"0.1\" tag=\"path\"/>\\n   </g>\\n   <g tag=\"g\">\\n      <path d=\"M 43.664039,140.0 L 43.664039,138.58839899999975\" fill=\"none\" stroke=\"rgb(0,0,0)\" stroke-width=\"0.1\" tag=\"path\"/>\\n      <path d=\"M 43.664039,138.58839899999975 L 36.664039,138.58839899999975\" fill=\"none\" stroke=\"rgb(0,0,0)\" stroke-width=\"0.1\" tag=\"path\"/>\\n      <path d=\"M 36.664039,138.58839899999975 L 36.664039,140.0\" fill=\"none\" stroke=\"rgb(0,0,0)\" stroke-width=\"0.1\" tag=\"path\"/>\\n      <path d=\"M 36.664039,61.588398999999754 L 43.664039,61.588398999999754\" fill=\"none\" stroke=\"rgb(0,0,0)\" stroke-width=\"0.1\" tag=\"path\"/>\\n      <path d=\"M 43.664039,61.588398999999754 L 43.664039,54.588398999999754\" fill=\"none\" stroke=\"rgb(0,0,0)\" stroke-width=\"0.1\" tag=\"path\"/>\\n      <path d=\"M 43.664039,54.588398999999754 L 36.664039,54.588398999999754\" fill=\"none\" stroke=\"rgb(0,0,0)\" stroke-width=\"0.1\" tag=\"path\"/>\\n      <path d=\"M 36.664039,54.588398999999754 L 36.664039,61.588398999999754\" fill=\"none\" stroke=\"rgb(0,0,0)\" stroke-width=\"0.1\" tag=\"path\"/>\\n      <path d=\"M 127.664039,140.0 L 127.664039,138.58839899999975\" fill=\"none\" stroke=\"rgb(0,0,0)\" stroke-width=\"0.1\" tag=\"path\"/>\\n      <path d=\"M 127.664039,138.58839899999975 L 120.664039,138.58839899999975\" fill=\"none\" stroke=\"rgb(0,0,0)\" stroke-width=\"0.1\" tag=\"path\"/>\\n      <path d=\"M 120.664039,138.58839899999975 L 120.664039,140.0\" fill=\"none\" stroke=\"rgb(0,0,0)\" stroke-width=\"0.1\" tag=\"path\"/>\\n      <path d=\"M 127.664039,56.588398999999754 L 127.664039,54.588398999999754\" fill=\"none\" stroke=\"rgb(0,0,0)\" stroke-width=\"0.1\" tag=\"path\"/>\\n      <path d=\"M 127.664039,61.588398999999754 L 127.664039,59.588398999999754\" fill=\"none\" stroke=\"rgb(0,0,0)\" stroke-width=\"0.1\" tag=\"path\"/>\\n      <path d=\"M 127.664039,54.588398999999754 L 120.664039,54.588398999999754\" fill=\"none\" stroke=\"rgb(0,0,0)\" stroke-width=\"0.1\" tag=\"path\"/>\\n      <path d=\"M 120.664039,54.588398999999754 L 120.664039,61.588398999999754\" fill=\"none\" stroke=\"rgb(0,0,0)\" stroke-width=\"0.1\" tag=\"path\"/>\\n   </g>\\n   <g tag=\"g\">\\n      <path d=\"M 75.23403899999994,38.52839899999981 L 108.25403899999992,38.52839899999981\" fill=\"none\" stroke=\"rgb(0,178,0)\" stroke-width=\"0.1\" tag=\"path\"/>\\n      <path d=\"M 108.25403899999992,38.52839899999981 L 131.2640389999999,71.04839899999979\" fill=\"none\" stroke=\"rgb(0,178,0)\" stroke-width=\"0.1\" tag=\"path\"/>\\n      <circle cx=\"131.2640389999999\" cy=\"71.04839899999979\" fill=\"none\" r=\"0.3\" stroke=\"rgb(0,178,0)\" stroke-width=\"0.1\" tag=\"circle\"/>\\n   </g>\\n   <g tag=\"g\">\\n      <path d=\"M 0.0,108.08839899999975 L 10.164039000000002,108.08839899999975\" fill=\"none\" stroke=\"rgb(121,121,121)\" stroke-width=\"0.1\" tag=\"path\"/>\\n      <path d=\"M 10.164039000000002,108.08839899999975 L 10.164039000000002,140.0\" fill=\"none\" stroke=\"rgb(121,121,121)\" stroke-width=\"0.1\" tag=\"path\"/>\\n      <path d=\"M 8.164039000000002,114.08839899999975 L 8.164039000000002,116.08839899999975\" fill=\"none\" stroke=\"rgb(121,121,121)\" stroke-width=\"0.1\" tag=\"path\"/>\\n      <path d=\"M 8.164039000000002,116.08839899999975 L 0.0,116.08839899999975\" fill=\"none\" stroke=\"rgb(121,121,121)\" stroke-width=\"0.1\" tag=\"path\"/>\\n      <path d=\"M 0.0,114.08839899999975 L 8.164039000000002,114.08839899999975\" fill=\"none\" stroke=\"rgb(121,121,121)\" stroke-width=\"0.1\" tag=\"path\"/>\\n      <path d=\"M 34.164039,108.08839899999975 L 10.164039000000002,108.08839899999975\" fill=\"none\" stroke=\"rgb(121,121,121)\" stroke-width=\"0.1\" tag=\"path\"/>\\n      <path d=\"M 10.164039000000002,108.08839899999975 L 10.164039000000002,140.0\" fill=\"none\" stroke=\"rgb(121,121,121)\" stroke-width=\"0.1\" tag=\"path\"/>\\n      <path d=\"M 34.164039,140.0 L 34.164039,108.08839899999975\" fill=\"none\" stroke=\"rgb(121,121,121)\" stroke-width=\"0.1\" tag=\"path\"/>\\n      <path d=\"M 12.164039000000002,114.08839899999975 L 12.164039000000002,116.08839899999975\" fill=\"none\" stroke=\"rgb(121,121,121)\" stroke-width=\"0.1\" tag=\"path\"/>\\n      <path d=\"M 12.164039000000002,116.08839899999975 L 32.164039,116.08839899999975\" fill=\"none\" stroke=\"rgb(121,121,121)\" stroke-width=\"0.1\" tag=\"path\"/>\\n      <path d=\"M 32.164039,116.08839899999975 L 32.164039,114.08839899999975\" fill=\"none\" stroke=\"rgb(121,121,121)\" stroke-width=\"0.1\" tag=\"path\"/>\\n      <path d=\"M 32.164039,114.08839899999975 L 12.164039000000002,114.08839899999975\" fill=\"none\" stroke=\"rgb(121,121,121)\" stroke-width=\"0.1\" tag=\"path\"/>\\n      <path d=\"M 0.0,108.08839899999975 L 10.164039000000002,108.08839899999975\" fill=\"none\" stroke=\"rgb(121,121,121)\" stroke-width=\"0.1\" tag=\"path\"/>\\n      <path d=\"M 10.164039000000002,108.08839899999975 L 10.164039000000002,55.088398999999754\" fill=\"none\" stroke=\"rgb(121,121,121)\" stroke-width=\"0.1\" tag=\"path\"/>\\n      <path d=\"M 10.164039000000002,55.088398999999754 L 0.0,55.088398999999754\" fill=\"none\" stroke=\"rgb(121,121,121)\" stroke-width=\"0.1\" tag=\"path\"/>\\n      <path d=\"M 8.164039000000002,102.08839899999975 L 8.164039000000002,100.08839899999975\" fill=\"none\" stroke=\"rgb(121,121,121)\" stroke-width=\"0.1\" tag=\"path\"/>\\n      <path d=\"M 8.164039000000002,100.08839899999975 L 0.0,100.08839899999975\" fill=\"none\" stroke=\"rgb(121,121,121)\" stroke-width=\"0.1\" tag=\"path\"/>\\n      <path d=\"M 0.0,102.08839899999975 L 8.164039000000002,102.08839899999975\" fill=\"none\" stroke=\"rgb(121,121,121)\" stroke-width=\"0.1\" tag=\"path\"/>\\n      <path d=\"M 34.164039,108.08839899999975 L 10.164039000000002,108.08839899999975\" fill=\"none\" stroke=\"rgb(121,121,121)\" stroke-width=\"0.1\" tag=\"path\"/>\\n      <path d=\"M 10.164039000000002,108.08839899999975 L 10.164039000000002,55.088398999999754\" fill=\"none\" stroke=\"rgb(121,121,121)\" stroke-width=\"0.1\" tag=\"path\"/>\\n      <path d=\"M 10.164039000000002,55.088398999999754 L 34.164039,55.088398999999754\" fill=\"none\" stroke=\"rgb(121,121,121)\" stroke-width=\"0.1\" tag=\"path\"/>\\n      <path d=\"M 34.164039,55.088398999999754 L 34.164039,108.08839899999975\" fill=\"none\" stroke=\"rgb(121,121,121)\" stroke-width=\"0.1\" tag=\"path\"/>\\n      <path d=\"M 12.164039000000002,102.08839899999975 L 12.164039000000002,100.08839899999975\" fill=\"none\" stroke=\"rgb(121,121,121)\" stroke-width=\"0.1\" tag=\"path\"/>\\n      <path d=\"M 12.164039000000002,100.08839899999975 L 32.164039,100.08839899999975\" fill=\"none\" stroke=\"rgb(121,121,121)\" stroke-width=\"0.1\" tag=\"path\"/>\\n      <path d=\"M 32.164039,100.08839899999975 L 32.164039,102.08839899999975\" fill=\"none\" stroke=\"rgb(121,121,121)\" stroke-width=\"0.1\" tag=\"path\"/>\\n      <path d=\"M 32.164039,102.08839899999975 L 12.164039000000002,102.08839899999975\" fill=\"none\" stroke=\"rgb(121,121,121)\" stroke-width=\"0.1\" tag=\"path\"/>\\n      <path d=\"M 70.164039,108.08839899999975 L 94.164039,108.08839899999975\" fill=\"none\" stroke=\"rgb(121,121,121)\" stroke-width=\"0.1\" tag=\"path\"/>\\n      <path d=\"M 94.164039,108.08839899999975 L 94.164039,140.0\" fill=\"none\" stroke=\"rgb(121,121,121)\" stroke-width=\"0.1\" tag=\"path\"/>\\n      <path d=\"M 70.164039,140.0 L 70.164039,108.08839899999975\" fill=\"none\" stroke=\"rgb(121,121,121)\" stroke-width=\"0.1\" tag=\"path\"/>\\n      <path d=\"M 92.164039,114.08839899999975 L 92.164039,116.08839899999975\" fill=\"none\" stroke=\"rgb(121,121,121)\" stroke-width=\"0.1\" tag=\"path\"/>\\n      <path d=\"M 92.164039,116.08839899999975 L 72.164039,116.08839899999975\" fill=\"none\" stroke=\"rgb(121,121,121)\" stroke-width=\"0.1\" tag=\"path\"/>\\n      <path d=\"M 72.164039,116.08839899999975 L 72.164039,114.08839899999975\" fill=\"none\" stroke=\"rgb(121,121,121)\" stroke-width=\"0.1\" tag=\"path\"/>\\n      <path d=\"M 72.164039,114.08839899999975 L 92.164039,114.08839899999975\" fill=\"none\" stroke=\"rgb(121,121,121)\" stroke-width=\"0.1\" tag=\"path\"/>\\n      <path d=\"M 118.164039,108.08839899999975 L 94.164039,108.08839899999975\" fill=\"none\" stroke=\"rgb(121,121,121)\" stroke-width=\"0.1\" tag=\"path\"/>\\n      <path d=\"M 94.164039,108.08839899999975 L 94.164039,140.0\" fill=\"none\" stroke=\"rgb(121,121,121)\" stroke-width=\"0.1\" tag=\"path\"/>\\n      <path d=\"M 118.164039,140.0 L 118.164039,108.08839899999975\" fill=\"none\" stroke=\"rgb(121,121,121)\" stroke-width=\"0.1\" tag=\"path\"/>\\n      <path d=\"M 96.164039,114.08839899999975 L 96.164039,116.08839899999975\" fill=\"none\" stroke=\"rgb(121,121,121)\" stroke-width=\"0.1\" tag=\"path\"/>\\n      <path d=\"M 96.164039,116.08839899999975 L 116.164039,116.08839899999975\" fill=\"none\" stroke=\"rgb(121,121,121)\" stroke-width=\"0.1\" tag=\"path\"/>\\n      <path d=\"M 116.164039,116.08839899999975 L 116.164039,114.08839899999975\" fill=\"none\" stroke=\"rgb(121,121,121)\" stroke-width=\"0.1\" tag=\"path\"/>\\n      <path d=\"M 116.164039,114.08839899999975 L 96.164039,114.08839899999975\" fill=\"none\" stroke=\"rgb(121,121,121)\" stroke-width=\"0.1\" tag=\"path\"/>\\n      <path d=\"M 46.164039,108.08839899999975 L 70.164039,108.08839899999975\" fill=\"none\" stroke=\"rgb(121,121,121)\" stroke-width=\"0.1\" tag=\"path\"/>\\n      <path d=\"M 70.164039,108.08839899999975 L 70.164039,140.0\" fill=\"none\" stroke=\"rgb(121,121,121)\" stroke-width=\"0.1\" tag=\"path\"/>\\n      <path d=\"M 46.164039,140.0 L 46.164039,108.08839899999975\" fill=\"none\" stroke=\"rgb(121,121,121)\" stroke-width=\"0.1\" tag=\"path\"/>\\n      <path d=\"M 68.164039,114.08839899999975 L 68.164039,116.08839899999975\" fill=\"none\" stroke=\"rgb(121,121,121)\" stroke-width=\"0.1\" tag=\"path\"/>\\n      <path d=\"M 68.164039,116.08839899999975 L 48.164039,116.08839899999975\" fill=\"none\" stroke=\"rgb(121,121,121)\" stroke-width=\"0.1\" tag=\"path\"/>\\n      <path d=\"M 48.164039,116.08839899999975 L 48.164039,114.08839899999975\" fill=\"none\" stroke=\"rgb(121,121,121)\" stroke-width=\"0.1\" tag=\"path\"/>\\n      <path d=\"M 48.164039,114.08839899999975 L 68.164039,114.08839899999975\" fill=\"none\" stroke=\"rgb(121,121,121)\" stroke-width=\"0.1\" tag=\"path\"/>\\n      <path d=\"M 70.164039,108.08839899999975 L 94.164039,108.08839899999975\" fill=\"none\" stroke=\"rgb(121,121,121)\" stroke-width=\"0.1\" tag=\"path\"/>\\n      <path d=\"M 94.164039,108.08839899999975 L 94.164039,55.088398999999754\" fill=\"none\" stroke=\"rgb(121,121,121)\" stroke-width=\"0.1\" tag=\"path\"/>\\n      <path d=\"M 94.164039,55.088398999999754 L 70.164039,55.088398999999754\" fill=\"none\" stroke=\"rgb(121,121,121)\" stroke-width=\"0.1\" tag=\"path\"/>\\n      <path d=\"M 70.164039,55.088398999999754 L 70.164039,108.08839899999975\" fill=\"none\" stroke=\"rgb(121,121,121)\" stroke-width=\"0.1\" tag=\"path\"/>\\n      <path d=\"M 92.164039,102.08839899999975 L 92.164039,100.08839899999975\" fill=\"none\" stroke=\"rgb(121,121,121)\" stroke-width=\"0.1\" tag=\"path\"/>\\n      <path d=\"M 92.164039,100.08839899999975 L 72.164039,100.08839899999975\" fill=\"none\" stroke=\"rgb(121,121,121)\" stroke-width=\"0.1\" tag=\"path\"/>\\n      <path d=\"M 72.164039,100.08839899999975 L 72.164039,102.08839899999975\" fill=\"none\" stroke=\"rgb(121,121,121)\" stroke-width=\"0.1\" tag=\"path\"/>\\n      <path d=\"M 72.164039,102.08839899999975 L 92.164039,102.08839899999975\" fill=\"none\" stroke=\"rgb(121,121,121)\" stroke-width=\"0.1\" tag=\"path\"/>\\n      <path d=\"M 118.164039,108.08839899999975 L 94.164039,108.08839899999975\" fill=\"none\" stroke=\"rgb(121,121,121)\" stroke-width=\"0.1\" tag=\"path\"/>\\n      <path d=\"M 94.164039,108.08839899999975 L 94.164039,55.088398999999754\" fill=\"none\" stroke=\"rgb(121,121,121)\" stroke-width=\"0.1\" tag=\"path\"/>\\n      <path d=\"M 94.164039,55.088398999999754 L 118.164039,55.088398999999754\" fill=\"none\" stroke=\"rgb(121,121,121)\" stroke-width=\"0.1\" tag=\"path\"/>\\n      <path d=\"M 118.164039,55.088398999999754 L 118.164039,108.08839899999975\" fill=\"none\" stroke=\"rgb(121,121,121)\" stroke-width=\"0.1\" tag=\"path\"/>\\n      <path d=\"M 96.164039,102.08839899999975 L 96.164039,100.08839899999975\" fill=\"none\" stroke=\"rgb(121,121,121)\" stroke-width=\"0.1\" tag=\"path\"/>\\n      <path d=\"M 96.164039,100.08839899999975 L 116.164039,100.08839899999975\" fill=\"none\" stroke=\"rgb(121,121,121)\" stroke-width=\"0.1\" tag=\"path\"/>\\n      <path d=\"M 116.164039,100.08839899999975 L 116.164039,102.08839899999975\" fill=\"none\" stroke=\"rgb(121,121,121)\" stroke-width=\"0.1\" tag=\"path\"/>\\n      <path d=\"M 116.164039,102.08839899999975 L 96.164039,102.08839899999975\" fill=\"none\" stroke=\"rgb(121,121,121)\" stroke-width=\"0.1\" tag=\"path\"/>\\n      <path d=\"M 46.164039,108.08839899999975 L 70.164039,108.08839899999975\" fill=\"none\" stroke=\"rgb(121,121,121)\" stroke-width=\"0.1\" tag=\"path\"/>\\n      <path d=\"M 70.164039,108.08839899999975 L 70.164039,55.088398999999754\" fill=\"none\" stroke=\"rgb(121,121,121)\" stroke-width=\"0.1\" tag=\"path\"/>\\n      <path d=\"M 70.164039,55.088398999999754 L 46.164039,55.088398999999754\" fill=\"none\" stroke=\"rgb(121,121,121)\" stroke-width=\"0.1\" tag=\"path\"/>\\n      <path d=\"M 46.164039,55.088398999999754 L 46.164039,108.08839899999975\" fill=\"none\" stroke=\"rgb(121,121,121)\" stroke-width=\"0.1\" tag=\"path\"/>\\n      <path d=\"M 68.164039,102.08839899999975 L 68.164039,100.08839899999975\" fill=\"none\" stroke=\"rgb(121,121,121)\" stroke-width=\"0.1\" tag=\"path\"/>\\n      <path d=\"M 68.164039,100.08839899999975 L 48.164039,100.08839899999975\" fill=\"none\" stroke=\"rgb(121,121,121)\" stroke-width=\"0.1\" tag=\"path\"/>\\n      <path d=\"M 48.164039,100.08839899999975 L 48.164039,102.08839899999975\" fill=\"none\" stroke=\"rgb(121,121,121)\" stroke-width=\"0.1\" tag=\"path\"/>\\n      <path d=\"M 48.164039,102.08839899999975 L 68.164039,102.08839899999975\" fill=\"none\" stroke=\"rgb(121,121,121)\" stroke-width=\"0.1\" tag=\"path\"/>\\n   </g>\\n   <g tag=\"g\">\\n      <path d=\"M 40.164039,140.0 L 40.164039,0.0\" fill=\"none\" stroke=\"rgb(178,0,0)\" stroke-width=\"0.1\" tag=\"path\"/>\\n      <path d=\"M 0.0,58.088398999999754 L 140.0,58.088398999999754\" fill=\"none\" stroke=\"rgb(178,0,0)\" stroke-width=\"0.1\" tag=\"path\"/>\\n      <path d=\"M 124.164039,140.0 L 124.164039,0.0\" fill=\"none\" stroke=\"rgb(178,0,0)\" stroke-width=\"0.1\" tag=\"path\"/>\\n   </g>\\n   <g tag=\"g\">\\n      <path d=\"M 120.664039,61.588398999999754 L 127.664039,61.588398999999754\" fill=\"none\" stroke=\"rgb(89,89,89)\" stroke-width=\"0.1\" tag=\"path\"/>\\n      <path d=\"M 127.664039,61.588398999999754 L 120.664039,61.588398999999754\" fill=\"none\" stroke=\"rgb(89,89,89)\" stroke-width=\"0.1\" tag=\"path\"/>\\n      <path d=\"M 120.664039,71.58839899999975 L 120.664039,75.58839899999975\" fill=\"none\" instanceId=\"-1\" semanticId=\"33\" stroke=\"rgb(89,89,89)\" stroke-width=\"0.1\" tag=\"path\"/>\\n      <path d=\"M 120.664039,75.58839899999975 L 127.664039,75.58839899999975\" fill=\"none\" instanceId=\"-1\" semanticId=\"33\" stroke=\"rgb(89,89,89)\" stroke-width=\"0.1\" tag=\"path\"/>\\n      <path d=\"M 127.664039,75.58839899999975 L 127.664039,71.58839899999975\" fill=\"none\" instanceId=\"-1\" semanticId=\"33\" stroke=\"rgb(89,89,89)\" stroke-width=\"0.1\" tag=\"path\"/>\\n      <path d=\"M 127.664039,71.58839899999975 L 120.664039,71.58839899999975\" fill=\"none\" instanceId=\"-1\" semanticId=\"33\" stroke=\"rgb(89,89,89)\" stroke-width=\"0.1\" tag=\"path\"/>\\n      <path d=\"M 122.914039,106.83839899999975 L 0.0,106.83839899999975\" fill=\"none\" instanceId=\"-1\" semanticId=\"33\" stroke=\"rgb(89,89,89)\" stroke-width=\"0.1\" tag=\"path\"/>\\n      <path d=\"M 0.0,109.33839899999975 L 125.414039,109.33839899999975\" fill=\"none\" instanceId=\"-1\" semanticId=\"33\" stroke=\"rgb(89,89,89)\" stroke-width=\"0.1\" tag=\"path\"/>\\n      <path d=\"M 125.414039,109.33839899999975 L 124.164039,108.08839899999975\" fill=\"none\" instanceId=\"-1\" semanticId=\"33\" stroke=\"rgb(89,89,89)\" stroke-width=\"0.1\" tag=\"path\"/>\\n      <path d=\"M 124.164039,108.08839899999975 L 122.914039,106.83839899999975\" fill=\"none\" instanceId=\"-1\" semanticId=\"33\" stroke=\"rgb(89,89,89)\" stroke-width=\"0.1\" tag=\"path\"/>\\n      <path d=\"M 124.164039,108.08839899999975 L 125.414039,109.33839899999975\" fill=\"none\" instanceId=\"-1\" semanticId=\"33\" stroke=\"rgb(89,89,89)\" stroke-width=\"0.1\" tag=\"path\"/>\\n      <path d=\"M 125.414039,109.33839899999975 L 125.414039,75.58839899999975\" fill=\"none\" instanceId=\"-1\" semanticId=\"33\" stroke=\"rgb(89,89,89)\" stroke-width=\"0.1\" tag=\"path\"/>\\n      <path d=\"M 125.414039,75.58839899999975 L 122.914039,75.58839899999975\" fill=\"none\" instanceId=\"-1\" semanticId=\"33\" stroke=\"rgb(89,89,89)\" stroke-width=\"0.1\" tag=\"path\"/>\\n      <path d=\"M 122.914039,75.58839899999975 L 122.914039,106.83839899999975\" fill=\"none\" instanceId=\"-1\" semanticId=\"33\" stroke=\"rgb(89,89,89)\" stroke-width=\"0.1\" tag=\"path\"/>\\n      <path d=\"M 122.914039,106.83839899999975 L 124.164039,108.08839899999975\" fill=\"none\" instanceId=\"-1\" semanticId=\"33\" stroke=\"rgb(89,89,89)\" stroke-width=\"0.1\" tag=\"path\"/>\\n      <path d=\"M 127.664039,59.588398999999754 L 136.154039,59.588398999999754\" fill=\"none\" stroke=\"rgb(89,89,89)\" stroke-width=\"0.1\" tag=\"path\"/>\\n      <path d=\"M 136.154039,59.588398999999754 L 136.154039,56.588398999999754\" fill=\"none\" stroke=\"rgb(89,89,89)\" stroke-width=\"0.1\" tag=\"path\"/>\\n      <path d=\"M 136.154039,56.588398999999754 L 127.664039,56.588398999999754\" fill=\"none\" stroke=\"rgb(89,89,89)\" stroke-width=\"0.1\" tag=\"path\"/>\\n      <path d=\"M 127.664039,56.588398999999754 L 127.664039,59.588398999999754\" fill=\"none\" stroke=\"rgb(89,89,89)\" stroke-width=\"0.1\" tag=\"path\"/>\\n      <path d=\"M 43.664039,140.0 L 43.664039,138.58839899999975\" fill=\"none\" instanceId=\"-1\" semanticId=\"33\" stroke=\"rgb(89,89,89)\" stroke-width=\"0.1\" tag=\"path\"/>\\n      <path d=\"M 43.664039,138.58839899999975 L 36.664039,138.58839899999975\" fill=\"none\" instanceId=\"-1\" semanticId=\"33\" stroke=\"rgb(89,89,89)\" stroke-width=\"0.1\" tag=\"path\"/>\\n      <path d=\"M 36.664039,138.58839899999975 L 36.664039,140.0\" fill=\"none\" instanceId=\"-1\" semanticId=\"33\" stroke=\"rgb(89,89,89)\" stroke-width=\"0.1\" tag=\"path\"/>\\n      <path d=\"M 36.664039,61.588398999999754 L 43.664039,61.588398999999754\" fill=\"none\" stroke=\"rgb(89,89,89)\" stroke-width=\"0.1\" tag=\"path\"/>\\n      <path d=\"M 43.664039,61.588398999999754 L 43.664039,54.588398999999754\" fill=\"none\" stroke=\"rgb(89,89,89)\" stroke-width=\"0.1\" tag=\"path\"/>\\n      <path d=\"M 43.664039,54.588398999999754 L 36.664039,54.588398999999754\" fill=\"none\" stroke=\"rgb(89,89,89)\" stroke-width=\"0.1\" tag=\"path\"/>\\n      <path d=\"M 36.664039,54.588398999999754 L 36.664039,61.588398999999754\" fill=\"none\" stroke=\"rgb(89,89,89)\" stroke-width=\"0.1\" tag=\"path\"/>\\n      <path d=\"M 127.664039,140.0 L 127.664039,138.58839899999975\" fill=\"none\" instanceId=\"-1\" semanticId=\"33\" stroke=\"rgb(89,89,89)\" stroke-width=\"0.1\" tag=\"path\"/>\\n      <path d=\"M 127.664039,138.58839899999975 L 120.664039,138.58839899999975\" fill=\"none\" instanceId=\"-1\" semanticId=\"33\" stroke=\"rgb(89,89,89)\" stroke-width=\"0.1\" tag=\"path\"/>\\n      <path d=\"M 120.664039,138.58839899999975 L 120.664039,140.0\" fill=\"none\" instanceId=\"-1\" semanticId=\"33\" stroke=\"rgb(89,89,89)\" stroke-width=\"0.1\" tag=\"path\"/>\\n      <path d=\"M 120.664039,61.588398999999754 L 127.664039,61.588398999999754\" fill=\"none\" stroke=\"rgb(89,89,89)\" stroke-width=\"0.1\" tag=\"path\"/>\\n      <path d=\"M 127.664039,61.588398999999754 L 127.664039,54.588398999999754\" fill=\"none\" stroke=\"rgb(89,89,89)\" stroke-width=\"0.1\" tag=\"path\"/>\\n      <path d=\"M 127.664039,54.588398999999754 L 120.664039,54.588398999999754\" fill=\"none\" stroke=\"rgb(89,89,89)\" stroke-width=\"0.1\" tag=\"path\"/>\\n      <path d=\"M 120.664039,54.588398999999754 L 120.664039,61.588398999999754\" fill=\"none\" stroke=\"rgb(89,89,89)\" stroke-width=\"0.1\" tag=\"path\"/>\\n   </g>\\n   <g tag=\"g\"/>\\n</svg>\\n'"
      ]
     },
     "execution_count": 7,
     "metadata": {},
     "output_type": "execute_result"
    }
   ],
   "source": [
    "fs"
   ]
  },
  {
   "cell_type": "code",
   "execution_count": null,
   "metadata": {},
   "outputs": [],
   "source": []
  }
 ],
 "metadata": {
  "kernelspec": {
   "display_name": "spy1",
   "language": "python",
   "name": "python3"
  },
  "language_info": {
   "codemirror_mode": {
    "name": "ipython",
    "version": 3
   },
   "file_extension": ".py",
   "mimetype": "text/x-python",
   "name": "python",
   "nbconvert_exporter": "python",
   "pygments_lexer": "ipython3",
   "version": "3.8.19"
  }
 },
 "nbformat": 4,
 "nbformat_minor": 2
}
